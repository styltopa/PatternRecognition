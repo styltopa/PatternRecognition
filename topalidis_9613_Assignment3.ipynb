{
 "cells": [
  {
   "cell_type": "code",
   "execution_count": 36,
   "metadata": {},
   "outputs": [],
   "source": [
    "# Stylianos Topalidis\n",
    "# AEM: 9613\n",
    "# email: styltopa@ece.auth.gr "
   ]
  },
  {
   "cell_type": "code",
   "execution_count": 37,
   "metadata": {},
   "outputs": [],
   "source": [
    "from sklearn import datasets, tree\n",
    "from pprint import pprint\n",
    "import numpy as np\n"
   ]
  },
  {
   "cell_type": "code",
   "execution_count": 38,
   "metadata": {},
   "outputs": [],
   "source": [
    "iris = datasets.load_iris()\n",
    "# print(dir(iris))\n",
    "\n",
    "# First attribute: sepal length (cm)\n",
    "# Second attribute: sepal width (cm)\n",
    "irisData = iris.data[:, 0:2]\n",
    "\n",
    "\n",
    "# Fields of iris data object\n",
    "# ['DESCR', 'data', 'data_module', 'feature_names', \\\n",
    "#  'filename', 'frame', 'target', 'target_names']\n",
    "\n",
    "# Training percent\n",
    "trainPercent = 0.5\n",
    "# testPercent = 1 - trainPercent\n",
    "# print(type(iris.data))\n",
    "\n",
    "# Turn the target values into a set of all possible targets {0, 1, 2} \n",
    "# to exclude duplicates\n",
    "singleTargetValsSet = set(iris.target)\n",
    "\n",
    "# Turn the set into a list and then into a numpy array\n",
    "# for convenience \n",
    "singleTargetValsList = list(singleTargetValsSet)\n",
    "singleTargetValsArr = np.array(singleTargetValsList) \n",
    "\n",
    "\n",
    "# Indexes for all the data samples (iterates over the data \n",
    "# for the different targets: setosa, versicolor, virginica) \n",
    "indexesListPerIdentifier = []\n",
    "\n",
    "# Indexes for the training and testing data in the original dataset\n",
    "trainingIndexesList = []\n",
    "testingIndexesList = []\n",
    "\n",
    "# for each of the flower types\n",
    "for targetIdentifier in range(len(singleTargetValsArr)):\n",
    "    indexesArr = np.where(iris.target == targetIdentifier)\n",
    "\n",
    "    # the first element of the list are the actual data \n",
    "    # and the second one is its data type \n",
    "    indexesListPerIdentifier = list(indexesArr[0])\n",
    "\n",
    "    # number of training data derived from the training percentage selected\n",
    "    # per group identifier (0, 1, 2)\n",
    "    numOfTrainingData = round(trainPercent*len(indexesListPerIdentifier))\n",
    "    numOfTestingData = len(indexesListPerIdentifier) - numOfTrainingData\n",
    "\n",
    "    # concatenate the indices of the new target (identifier) training data \n",
    "    # with the indices of the old target training data.\n",
    "    trainingIndexesList = trainingIndexesList + indexesListPerIdentifier[0:numOfTrainingData]\n",
    "    testingIndexesList = testingIndexesList + indexesListPerIdentifier[numOfTrainingData:]\n",
    "    \n",
    "\n",
    "\n",
    "# print(trainingIndexesList)\n",
    "# print(testingIndexesList)\n"
   ]
  },
  {
   "cell_type": "code",
   "execution_count": 39,
   "metadata": {},
   "outputs": [],
   "source": [
    "# Arrays holding the indexes of the training and testing data samples\n",
    "# list -> np.array\n",
    "trainingIndexesArr = np.array(trainingIndexesList)\n",
    "testingIndexesArr = np.array(testingIndexesList)\n",
    "\n",
    "# To avoid training the tree with batches of the same target data,\n",
    "# as given (all setosa first, then all versicolor and finally all virginica),\n",
    "# we permute the training data\n",
    "np.random.seed(0)\n",
    "trainingIndexesArrPerm =  np.random.permutation(trainingIndexesArr)\n",
    "trainingArrPerm = irisData[trainingIndexesArr]\n",
    "\n"
   ]
  },
  {
   "cell_type": "code",
   "execution_count": 47,
   "metadata": {},
   "outputs": [
    {
     "name": "stdout",
     "output_type": "stream",
     "text": [
      "Accuracy:  92.0 %\n"
     ]
    }
   ],
   "source": [
    "# Training data samples\n",
    "trainingArr = trainingArrPerm\n",
    "\n",
    "# Target values of the training data samples\n",
    "targetArrTraining = iris.target[trainingIndexesArrPerm]\n",
    "\n",
    "\n",
    "# print(targetArr)\n",
    "clf = tree.DecisionTreeClassifier()\n",
    "clf = clf.fit(trainingArr, targetArrTraining)\n",
    "\n",
    "\n",
    "testingArr = irisData[testingIndexesArr]\n",
    "targetArrTesting = iris.target[testingIndexesArr]\n",
    "\n",
    "\n",
    "samPred = clf.predict(testingArr)\n",
    "\n",
    "# # correpredictions\n",
    "targetAndPred = np.stack((targetArrTesting, samPred), axis=1) \n",
    "\n",
    "correctlyPredicted = 0\n",
    "\n",
    "for predCount in range(len(samPred)):\n",
    "    # print(targetAndPred[predCount])\n",
    "    if iris.target[predCount] == samPred[predCount]:\n",
    "        correctlyPredicted = correctlyPredicted + 1\n",
    "    # else:\n",
    "        # print('Mispredicted')\n",
    "\n",
    "\n",
    "\n",
    "accuracy = correctlyPredicted/numOfTestingData \n",
    "print('Accuracy: ', accuracy*100, '%')"
   ]
  }
 ],
 "metadata": {
  "kernelspec": {
   "display_name": "base",
   "language": "python",
   "name": "python3"
  },
  "language_info": {
   "codemirror_mode": {
    "name": "ipython",
    "version": 3
   },
   "file_extension": ".py",
   "mimetype": "text/x-python",
   "name": "python",
   "nbconvert_exporter": "python",
   "pygments_lexer": "ipython3",
   "version": "3.9.13 (main, Aug 25 2022, 23:51:50) [MSC v.1916 64 bit (AMD64)]"
  },
  "orig_nbformat": 4,
  "vscode": {
   "interpreter": {
    "hash": "57a2b867923f2cc7a1df74fe767d6b0c98820aad4964c16add11e9af3ce14a54"
   }
  }
 },
 "nbformat": 4,
 "nbformat_minor": 2
}
