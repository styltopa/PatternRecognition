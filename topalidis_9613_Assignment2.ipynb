{
 "cells": [
  {
   "cell_type": "code",
   "execution_count": 1,
   "metadata": {},
   "outputs": [],
   "source": [
    "# Stylianos Topalidis\n",
    "# AEM: 9613\n",
    "# email: styltopa@ece.auth.gr "
   ]
  },
  {
   "cell_type": "code",
   "execution_count": 153,
   "metadata": {},
   "outputs": [],
   "source": [
    "import numpy as np\n",
    "from math import pi, log \n",
    "import matplotlib.pyplot as plt\n"
   ]
  },
  {
   "cell_type": "code",
   "execution_count": 154,
   "metadata": {},
   "outputs": [],
   "source": [
    "\n",
    "# d1: the values of indicator x for D1 \n",
    "d1 = np.array([2.8,-0.4,-0.8, 2.3,-0.3, 3.6, 4.1])\n",
    "linStart = -2\n",
    "linStop = 2\n",
    "linStep = 0.5\n",
    "theta = np.arange(linStart, linStop, linStep)\n",
    "\n",
    "# xSpace: has the same x in each column\n",
    "# thetaSpace: has the same theta in each row\n",
    "# each row has the likelihood values for a single theta\n",
    "xSpace, thetaSpace = np.meshgrid(d1, theta)\n",
    "\n",
    "# xSpace, ySpace, p: len(x) x len(theta)\n",
    "p = np.empty((xSpace.shape))     # same as p = np.empty((thetaSpace.shape))     \n",
    "p = (1/pi)*(1/(1+np.power((xSpace-thetaSpace), 2)))\n",
    "# p = (1/(1+np.power((xSpace-thetaSpace), 2)))\n",
    "\n",
    "# pDGivenTheta: the product of all probability density functions for all data x  \n",
    "# multiply.reduce(arr, 0) returns the array containing the product of the\n",
    "#  elements of arr over dimension 0 (product of elements of each column).\n",
    "pDGivenTheta = np.multiply.reduce(p, 0)\n",
    "# print(pDGivenTheta)"
   ]
  },
  {
   "cell_type": "code",
   "execution_count": 157,
   "metadata": {},
   "outputs": [
    {
     "name": "stdout",
     "output_type": "stream",
     "text": [
      "[0. 1. 2.]\n"
     ]
    }
   ],
   "source": [
    "myV = np.array([1, np.e, np.e**2])\n",
    "y = np.log(myV)\n",
    "print(y)"
   ]
  },
  {
   "cell_type": "code",
   "execution_count": null,
   "metadata": {},
   "outputs": [],
   "source": [
    "logpDTheta = np.log(pDGivenTheta)\n",
    "plt.figure(1)\n",
    "plt.plot(theta, logpDTheta)"
   ]
  }
 ],
 "metadata": {
  "kernelspec": {
   "display_name": "Python 3.9.13 ('base')",
   "language": "python",
   "name": "python3"
  },
  "language_info": {
   "codemirror_mode": {
    "name": "ipython",
    "version": 3
   },
   "file_extension": ".py",
   "mimetype": "text/x-python",
   "name": "python",
   "nbconvert_exporter": "python",
   "pygments_lexer": "ipython3",
   "version": "3.9.13"
  },
  "orig_nbformat": 4,
  "vscode": {
   "interpreter": {
    "hash": "57a2b867923f2cc7a1df74fe767d6b0c98820aad4964c16add11e9af3ce14a54"
   }
  }
 },
 "nbformat": 4,
 "nbformat_minor": 2
}
