{
 "cells": [
  {
   "cell_type": "code",
   "execution_count": 1,
   "metadata": {},
   "outputs": [],
   "source": [
    "# Stylianos Topalidis\n",
    "# AEM: 9613\n",
    "# email: styltopa@ece.auth.gr "
   ]
  },
  {
   "cell_type": "code",
   "execution_count": 2,
   "metadata": {},
   "outputs": [],
   "source": [
    "import numpy as np\n",
    "from math import pi, log \n",
    "import matplotlib.pyplot as plt\n"
   ]
  },
  {
   "cell_type": "code",
   "execution_count": 8,
   "metadata": {},
   "outputs": [
    {
     "name": "stdout",
     "output_type": "stream",
     "text": [
      "[1.69133491e-11 1.56671604e-10 1.42977890e-09 6.97110919e-09\n",
      " 1.15496895e-08 1.04968474e-08 1.04434935e-08 1.45404668e-08]\n"
     ]
    }
   ],
   "source": [
    "# x1: the values of indicator x for D1 \n",
    "x1 = np.array([2.8,-0.4,-0.8, 2.3,-0.3, 3.6, 4.1])\n",
    "thetaStart = -2\n",
    "thetaStop = 2\n",
    "thetaStep = 0.5\n",
    "# the various theta for which we compute the pdf\n",
    "thetaRange = np.arange(thetaStart, thetaStop, thetaStep)\n",
    "\n",
    "# xSpace: has the same x in each column\n",
    "# thetaSpace: has the same theta in each row\n",
    "# each row has the likelihood values for a single theta\n",
    "xSpace, thetaSpace = np.meshgrid(x1, thetaRange)\n",
    "\n",
    "# xSpace, ySpace, p are all of dimensions: len(x) x len(thetaRange)\n",
    "p = np.empty((xSpace.shape))     # same as p = np.empty((thetaSpace.shape))     \n",
    "p = (1/pi)*(1/(1+np.power((xSpace-thetaSpace), 2)))\n",
    "# p = (1/(1+np.power((xSpace-thetaSpace), 2)))\n",
    "\n",
    "# pDGivenTheta: the product of all probability density functions for all data x for \n",
    "# a specific theta. In other words, it is the product of all elements of a column\n",
    "# multiply.reduce(arr, 0) returns the array containing the product of the\n",
    "#  elements of arr over dimension 1 (product of elements of each row).\n",
    "pDGivenTheta = np.multiply.reduce(p, 1)\n",
    "print(pDGivenTheta)"
   ]
  },
  {
   "cell_type": "code",
   "execution_count": 157,
   "metadata": {},
   "outputs": [
    {
     "name": "stdout",
     "output_type": "stream",
     "text": [
      "[0. 1. 2.]\n"
     ]
    }
   ],
   "source": [
    "myV = np.array([1, np.e, np.e**2])\n",
    "y = np.log(myV)\n",
    "print(y)"
   ]
  },
  {
   "cell_type": "code",
   "execution_count": null,
   "metadata": {},
   "outputs": [],
   "source": [
    "logpDTheta = np.log(pDGivenTheta)\n",
    "# plt.figure(1)\n",
    "# plt.plot(thetaRange, logpDTheta)"
   ]
  }
 ],
 "metadata": {
  "kernelspec": {
   "display_name": "Python 3.9.13 ('base')",
   "language": "python",
   "name": "python3"
  },
  "language_info": {
   "codemirror_mode": {
    "name": "ipython",
    "version": 3
   },
   "file_extension": ".py",
   "mimetype": "text/x-python",
   "name": "python",
   "nbconvert_exporter": "python",
   "pygments_lexer": "ipython3",
   "version": "3.9.13"
  },
  "orig_nbformat": 4,
  "vscode": {
   "interpreter": {
    "hash": "57a2b867923f2cc7a1df74fe767d6b0c98820aad4964c16add11e9af3ce14a54"
   }
  }
 },
 "nbformat": 4,
 "nbformat_minor": 2
}
